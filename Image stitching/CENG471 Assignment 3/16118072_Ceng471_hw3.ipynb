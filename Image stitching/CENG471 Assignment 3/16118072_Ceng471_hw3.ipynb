{
 "cells": [
  {
   "cell_type": "code",
   "execution_count": 1,
   "metadata": {},
   "outputs": [],
   "source": [
    "#Alper Beykan YOLCU"
   ]
  },
  {
   "cell_type": "code",
   "execution_count": 3,
   "metadata": {},
   "outputs": [],
   "source": [
    "import cv2\n",
    "import numpy as np\n",
    "import random\n",
    "\n",
    "\n",
    "from copy import deepcopy\n"
   ]
  },
  {
   "cell_type": "code",
   "execution_count": 4,
   "metadata": {},
   "outputs": [],
   "source": [
    "def get_image(path):\n",
    "    im=  cv2.imread(path)\n",
    "    return im\n"
   ]
  },
  {
   "cell_type": "code",
   "execution_count": 5,
   "metadata": {},
   "outputs": [],
   "source": [
    "def show_im(im):\n",
    "    cv2.imshow(\"\",im)\n",
    "    cv2.waitKey(0)\n",
    "    cv2.destroyAllWindows()"
   ]
  },
  {
   "cell_type": "code",
   "execution_count": 6,
   "metadata": {},
   "outputs": [
    {
     "name": "stderr",
     "output_type": "stream",
     "text": [
      "<>:5: SyntaxWarning: \"is not\" with a literal. Did you mean \"!=\"?\n",
      "<>:5: SyntaxWarning: \"is not\" with a literal. Did you mean \"!=\"?\n",
      "<ipython-input-6-c2adb455f0b2>:5: SyntaxWarning: \"is not\" with a literal. Did you mean \"!=\"?\n",
      "  if cuted_dest[2] is not 0:\n"
     ]
    }
   ],
   "source": [
    "def cut(point, homography):\n",
    "    point = np.array([[point[0]], [point[1]], [1]])\n",
    "    cuted_dest = np.dot(homography, point)\n",
    "\n",
    "    if cuted_dest[2] is not 0:\n",
    "        cuted_dest = cuted_dest / cuted_dest[2]\n",
    "\n",
    "    return np.array([cuted_dest[0][0], cuted_dest[1][0]])\n"
   ]
  },
  {
   "cell_type": "code",
   "execution_count": 7,
   "metadata": {},
   "outputs": [],
   "source": [
    "\n",
    "def get_kp(image, file_name=None):\n",
    "    orb = cv2.ORB_create()\n",
    "    image1_kp, image1_descriptor = orb.detectAndCompute(image, None)\n",
    "\n",
    "    return [image1_kp, image1_descriptor]\n",
    "\n",
    "def fetch_matches(image1_details, image2_details):\n",
    "    bf = cv2.BFMatcher(cv2.NORM_HAMMING, crossCheck=True)\n",
    "    matches = bf.match(image1_details[1], image2_details[1])\n",
    "    matches = sorted(matches, key=lambda x: x.distance)\n",
    "    return matches\n"
   ]
  },
  {
   "cell_type": "code",
   "execution_count": 8,
   "metadata": {},
   "outputs": [],
   "source": [
    "def compute_inlier_count(homography, image1_keypoints, image2_keypoints, matches, inlier_threshold):\n",
    "\n",
    "    src_pts = np.array([image1_keypoints[match.queryIdx].pt for match in matches], dtype=np.int)\n",
    "    dest_pts = np.array([image2_keypoints[match.trainIdx].pt for match in matches], dtype=np.int)\n",
    "\n",
    "    inlier_elements = []\n",
    "    for index in range(0, len(src_pts)):\n",
    "        src = src_pts[index]\n",
    "        dest = dest_pts[index]\n",
    "        cuted_dest = cut(src, homography)\n",
    "\n",
    "        ssd = np.sqrt((np.array(cuted_dest - dest, dtype=np.float32) ** 2).sum(0))\n",
    "        if ssd < inlier_threshold:\n",
    "            inlier_elements.append(index)\n",
    "\n",
    "    return inlier_elements\n",
    "\n",
    "def ransac_matches(inmatches, image1_keypoints, image2_keypoints):\n",
    "    src_pts = np.array([image1_keypoints[match.queryIdx].pt for match in inmatches], dtype=np.int)\n",
    "    dst_pts = np.array([image2_keypoints[match.trainIdx].pt for match in inmatches], dtype=np.int)\n",
    "    homography, mask = cv2.findHomography(src_pts, dst_pts, method=0)\n",
    "    return homography\n",
    "\n",
    "def ransac(matches, num_matches, num_iterations, image1_keypoints, image2_keypoints, inlier_threshold):\n",
    "    max_inlier_elements = []\n",
    "\n",
    "    for index in range(0, num_iterations):\n",
    "        random_4_matches = random.sample(matches, num_matches)\n",
    "        src_pts = np.array([image1_keypoints[match.queryIdx].pt for match in random_4_matches], dtype=np.int)\n",
    "        dst_pts = np.array([image2_keypoints[match.trainIdx].pt for match in random_4_matches], dtype=np.int)\n",
    "        homography, mask = cv2.findHomography(src_pts, dst_pts, method=0)\n",
    "\n",
    "        inlier_elements = compute_inlier_count(homography, image1_keypoints, image2_keypoints, matches, inlier_threshold)\n",
    "        if len(inlier_elements) >= len(max_inlier_elements):\n",
    "            max_inlier_elements = inlier_elements\n",
    "\n",
    "    inmatches = []\n",
    "    for index in max_inlier_elements:\n",
    "        inmatches.append(matches[index])\n",
    "\n",
    "    homography = ransac_matches(inmatches, image1_keypoints, image2_keypoints)\n",
    "    inv_homography = np.linalg.inv(homography)\n",
    "\n",
    "    return homography, inv_homography, inmatches\n"
   ]
  },
  {
   "cell_type": "code",
   "execution_count": 9,
   "metadata": {},
   "outputs": [],
   "source": [
    "\n",
    "def draw_kp(image, corner_points):\n",
    "\n",
    "    image = deepcopy(image)\n",
    "    for corner_point in corner_points:\n",
    "        x, y = corner_point.pt\n",
    "        cv2.circle(image, (int(x), int(y)), 4, (0, 0, 255))\n",
    "\n",
    "    return image"
   ]
  },
  {
   "cell_type": "code",
   "execution_count": 10,
   "metadata": {},
   "outputs": [],
   "source": [
    "\n",
    "def calculate_stitched_image_bounds(image1, image2, inv_homography):\n",
    "    image1_height, image1_width, x = image1.shape\n",
    "    image2_height, image2_width, x = image2.shape\n",
    "    bottom_left = cut([0, image2_height - 1], inv_homography)\n",
    "    bottom_right = cut([image2_width - 1, image2_height - 1], inv_homography)\n",
    "\n",
    "    top_left = cut([0, 0], inv_homography)\n",
    "    top_right = cut([image2_width - 1, 0], inv_homography)\n",
    "   \n",
    "    stitchtop = int(min(top_left[1], top_right[1], 0))\n",
    "    stitchbottom = int(max(bottom_left[1], bottom_right[1], image1_height))\n",
    "    stitchleft = int(min(top_left[0], bottom_left[0], 0))\n",
    "    stitchright = int(max(top_right[0], bottom_right[0], image1_width))\n",
    "    width = stitchright - stitchleft\n",
    "\n",
    "    height = stitchbottom - stitchtop\n",
    "\n",
    "    offset = (-stitchleft, -stitchtop)\n",
    "\n",
    "    min_x = int(min(top_left[0], bottom_left[0]))\n",
    "    min_y = int(min(top_left[1], top_right[1]))\n",
    "    min_xy = (abs(min_x), abs(min_y))\n",
    "\n",
    "    stitched_image_bounds = (height, width, 3)\n",
    "    return stitched_image_bounds, offset, min_xy\n",
    "\n",
    "def stitch(image1, image2, homography, inv_homography):\n",
    "\n",
    "    stitched_image_bounds, offset, min_xy = calculate_stitched_image_bounds(image1, image2, inv_homography)\n",
    "    image1_height, image1_width, x = image1.shape\n",
    "  \n",
    "    (offset_x, offset_y) = offset\n",
    "    translation = np.matrix([\n",
    "        [1.0, 0.0, offset_x],\n",
    "        [0, 1.0, offset_y],\n",
    "        [0.0, 0.0, 1.0]\n",
    "    ])\n",
    "\n",
    "    inv_homography = translation * inv_homography\n",
    "\n",
    "    (bounds_x, bounds_y, z) = stitched_image_bounds\n",
    "\n",
    "    stitched_image = np.zeros(shape=stitched_image_bounds, dtype=np.uint8)\n",
    "    stitched_image = cv2.warpPerspective(image2, inv_homography, (bounds_y, bounds_x), stitched_image)\n",
    "    stitched_image[offset_y:image1_height + offset_y, offset_x:image1_width + offset_x] = image1\n",
    "\n",
    "\n",
    "    return stitched_image"
   ]
  },
  {
   "cell_type": "code",
   "execution_count": null,
   "metadata": {},
   "outputs": [],
   "source": []
  },
  {
   "cell_type": "code",
   "execution_count": null,
   "metadata": {},
   "outputs": [],
   "source": []
  },
  {
   "cell_type": "code",
   "execution_count": 22,
   "metadata": {},
   "outputs": [
    {
     "name": "stdout",
     "output_type": "stream",
     "text": [
      "Done\n"
     ]
    }
   ],
   "source": [
    "\n",
    "left=get_image(\"C:/Users/user/Desktop/dersler/imageProcessing/CENG471 Assignment 3/left.jpeg\")\n",
    "right=get_image(\"C:/Users/user/Desktop/dersler/imageProcessing/CENG471 Assignment 3/right.jpeg\")\n",
    "image1 = left\n",
    "image2 = right\n",
    "\n",
    "image1_details = get_kp(image1, \"im1\") \n",
    "image2_details = get_kp(image2, \"im2\")\n",
    "\n",
    "matches = fetch_matches(image1_details, image2_details)\n",
    "matches_image = cv2.drawMatches(image1, image1_details[0], image2, image2_details[0], matches[:20], None, flags=2)\n",
    "show_im(matches_image)\n",
    "homography, inv_homography, inlier_matches = ransac(matches, 4, 100, image1_details[0], image2_details[0], inlier_threshold=0.5)\n",
    "inlier_image = cv2.drawMatches(image1, image1_details[0], image2, image2_details[0], inlier_matches, None, flags=2)\n",
    "stitched_image = stitch(image1, image2, homography, inv_homography)\n",
    "show_im(stitched_image)\n",
    "cv2.waitKey(0)\n",
    "print(\"Done\")"
   ]
  },
  {
   "cell_type": "code",
   "execution_count": 23,
   "metadata": {},
   "outputs": [
    {
     "name": "stdout",
     "output_type": "stream",
     "text": [
      "Before saving image:\n",
      "['.ipynb_checkpoints', '16118072_Ceng471_hw3.ipynb', 'Assignment3.pdf', 'left.jpeg', 'result.jpg', 'result2.jpg', 'right.jpeg']\n",
      "After saving image:\n",
      "['.ipynb_checkpoints', '16118072_Ceng471_hw3.ipynb', 'Assignment3.pdf', 'left.jpeg', 'result.jpg', 'result2.jpg', 'right.jpeg']\n"
     ]
    }
   ],
   "source": [
    "import os\n",
    "\n",
    "directory = r'C:/Users/user/Desktop/dersler/imageProcessing/CENG471 Assignment 3/'\n",
    "  \n",
    "print(\"Before saving image:\")   \n",
    "print(os.listdir(directory))   \n",
    "  \n",
    "# Filename \n",
    "filename = 'result.jpg'\n",
    "cv2.imwrite(filename, stitched_image) \n",
    "filename = 'result2.jpg'\n",
    "  \n",
    "cv2.imwrite(filename, matches_image) \n",
    "# List files and directories   \n",
    "# in 'C:/Users / Rajnish / Desktop / GeeksforGeeks'   \n",
    "print(\"After saving image:\")   \n",
    "print(os.listdir(directory)) \n",
    "  "
   ]
  },
  {
   "cell_type": "code",
   "execution_count": null,
   "metadata": {},
   "outputs": [],
   "source": []
  }
 ],
 "metadata": {
  "kernelspec": {
   "display_name": "Python 3",
   "language": "python",
   "name": "python3"
  },
  "language_info": {
   "codemirror_mode": {
    "name": "ipython",
    "version": 3
   },
   "file_extension": ".py",
   "mimetype": "text/x-python",
   "name": "python",
   "nbconvert_exporter": "python",
   "pygments_lexer": "ipython3",
   "version": "3.8.3"
  }
 },
 "nbformat": 4,
 "nbformat_minor": 4
}
